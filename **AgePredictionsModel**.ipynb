{
  "nbformat": 4,
  "nbformat_minor": 0,
  "metadata": {
    "colab": {
      "provenance": [],
      "authorship_tag": "ABX9TyOqbgoM3j2S5tdSg8fqa1+f",
      "include_colab_link": true
    },
    "kernelspec": {
      "name": "python3",
      "display_name": "Python 3"
    },
    "language_info": {
      "name": "python"
    }
  },
  "cells": [
    {
      "cell_type": "markdown",
      "metadata": {
        "id": "view-in-github",
        "colab_type": "text"
      },
      "source": [
        "<a href=\"https://colab.research.google.com/github/lauramazzu/hackbio-biocoding-internship/blob/main/**AgePredictionsModel**.ipynb\" target=\"_parent\"><img src=\"https://colab.research.google.com/assets/colab-badge.svg\" alt=\"Open In Colab\"/></a>"
      ]
    },
    {
      "cell_type": "code",
      "execution_count": 151,
      "metadata": {
        "id": "PccycaL-lhEP"
      },
      "outputs": [],
      "source": [
        "import pandas as pd\n",
        "from sklearn.model_selection import train_test_split\n",
        "from sklearn.feature_selection import RFE\n",
        "from sklearn.linear_model import LinearRegression\n",
        "from sklearn.metrics import mean_squared_error, r2_score\n",
        "\n",
        "\n",
        "from sklearn.ensemble import RandomForestRegressor"
      ]
    },
    {
      "cell_type": "markdown",
      "source": [
        "**Age Prediction in Humans**\n",
        "\n",
        "Study the data here\n",
        "\n",
        "There are 1000 CpG sites to be used to\n",
        "determine the age of 108 individuals (Homo sapiens).\n",
        "\n",
        "Using any regression model, predict the age of the patients (last columns).\n",
        "\n",
        "In your feature selection step, reduce the number of features to select to 90, 80, 70, 60, 50, 40, 30, 20 and 10.\n",
        "\n",
        " How does the MSE behave with the reducing number of features?\n",
        "\n",
        "Generate a plot of the number of features against the mse values."
      ],
      "metadata": {
        "id": "RuUre14Altc_"
      }
    },
    {
      "cell_type": "code",
      "source": [
        "#Loading the dataset\n",
        "df_sites_link = \"https://raw.githubusercontent.com/HackBio-Internship/2025_project_collection/refs/heads/main/Python/Dataset/methylation.data.csv\"\n",
        "\n",
        "df_sites = pd.read_csv(df_sites_link)\n",
        "df_sites.head()\n",
        "print(df_sites.head())\n",
        "print(f\"The dataset has {df_sites.shape[0]} rows and {df_sites.shape[1]} .\")"
      ],
      "metadata": {
        "colab": {
          "base_uri": "https://localhost:8080/"
        },
        "id": "TcxcX0q0l-yd",
        "outputId": "36f0ff58-077a-43c4-8e6c-f4fe8ca0cd63"
      },
      "execution_count": 152,
      "outputs": [
        {
          "output_type": "stream",
          "name": "stdout",
          "text": [
            "   Unnamed: 0  cg22051636  cg25569462  cg03606258  cg22022041  cg00729708  \\\n",
            "0           1    0.028607    0.118231    0.354948   -0.195587   -0.328310   \n",
            "1           2   -0.421796   -0.484327    0.358169    0.184083    0.058353   \n",
            "2           3   -0.425853   -0.486174    0.017406   -0.183193    0.227653   \n",
            "3           4   -0.449498    0.136772    0.366528   -0.169309    0.151502   \n",
            "4           5    0.230452    0.232878    0.313735    0.187171   -0.371522   \n",
            "\n",
            "   cg07747299  cg14159672  cg12437481  cg20945531  ...  cg25307081  \\\n",
            "0   -0.175936   -0.169272    0.166648    0.013308  ...   -0.043515   \n",
            "1   -0.173480   -0.135551   -0.196084    0.024734  ...   -0.016707   \n",
            "2    0.415791   -0.077909   -0.043989    0.103141  ...   -0.023028   \n",
            "3   -0.191507   -0.125910    0.200092   -0.013143  ...   -0.004660   \n",
            "4   -0.185925    0.564402   -0.209667   -0.318550  ...   -0.003939   \n",
            "\n",
            "   cg02298570  cg03545635  cg07310951  cg02712878  cg04697562  cg20090467  \\\n",
            "0   -0.042265   -0.087791   -0.030244   -0.002556   -0.013288   -0.018405   \n",
            "1   -0.020371    0.002521   -0.022933   -0.042472   -0.011147   -0.048486   \n",
            "2   -0.007988    0.001124    0.033117   -0.066167    0.030863   -0.007400   \n",
            "3    0.007814    0.016429    0.007355   -0.021429    0.031454    0.004433   \n",
            "4    0.007787    0.036709   -0.031628    0.018501    0.004436    0.007735   \n",
            "\n",
            "   cg24150528  cg17036737        Age  \n",
            "0    0.028344    0.041416  20.786301  \n",
            "1   -0.000823   -0.098725  18.158904  \n",
            "2    0.012948   -0.000146  57.868493  \n",
            "3    0.026085    0.015497  19.706849  \n",
            "4    0.001121   -0.015098  61.956164  \n",
            "\n",
            "[5 rows x 1037 columns]\n",
            "The dataset has 108 rows and 1037 .\n"
          ]
        }
      ]
    },
    {
      "cell_type": "code",
      "source": [
        "#change the first column from \"unnamed\" to \"patient number\" to make it easier to understand\n",
        "df_sites.rename(columns={'Unnamed: 0': 'Patient Number'}, inplace=True)\n",
        "print(df_sites.head())\n",
        "df_sites.head()"
      ],
      "metadata": {
        "colab": {
          "base_uri": "https://localhost:8080/",
          "height": 802
        },
        "id": "5WtIEk6Mn7P9",
        "outputId": "a4ae1901-c958-497f-dba5-1c2c543da5a4"
      },
      "execution_count": 182,
      "outputs": [
        {
          "output_type": "stream",
          "name": "stdout",
          "text": [
            "   Patient Number  cg22051636  cg25569462  cg03606258  cg22022041  cg00729708  \\\n",
            "0               1    0.028607    0.118231    0.354948   -0.195587   -0.328310   \n",
            "1               2   -0.421796   -0.484327    0.358169    0.184083    0.058353   \n",
            "2               3   -0.425853   -0.486174    0.017406   -0.183193    0.227653   \n",
            "3               4   -0.449498    0.136772    0.366528   -0.169309    0.151502   \n",
            "4               5    0.230452    0.232878    0.313735    0.187171   -0.371522   \n",
            "\n",
            "   cg07747299  cg14159672  cg12437481  cg20945531  ...  cg25307081  \\\n",
            "0   -0.175936   -0.169272    0.166648    0.013308  ...   -0.043515   \n",
            "1   -0.173480   -0.135551   -0.196084    0.024734  ...   -0.016707   \n",
            "2    0.415791   -0.077909   -0.043989    0.103141  ...   -0.023028   \n",
            "3   -0.191507   -0.125910    0.200092   -0.013143  ...   -0.004660   \n",
            "4   -0.185925    0.564402   -0.209667   -0.318550  ...   -0.003939   \n",
            "\n",
            "   cg02298570  cg03545635  cg07310951  cg02712878  cg04697562  cg20090467  \\\n",
            "0   -0.042265   -0.087791   -0.030244   -0.002556   -0.013288   -0.018405   \n",
            "1   -0.020371    0.002521   -0.022933   -0.042472   -0.011147   -0.048486   \n",
            "2   -0.007988    0.001124    0.033117   -0.066167    0.030863   -0.007400   \n",
            "3    0.007814    0.016429    0.007355   -0.021429    0.031454    0.004433   \n",
            "4    0.007787    0.036709   -0.031628    0.018501    0.004436    0.007735   \n",
            "\n",
            "   cg24150528  cg17036737        Age  \n",
            "0    0.028344    0.041416  20.786301  \n",
            "1   -0.000823   -0.098725  18.158904  \n",
            "2    0.012948   -0.000146  57.868493  \n",
            "3    0.026085    0.015497  19.706849  \n",
            "4    0.001121   -0.015098  61.956164  \n",
            "\n",
            "[5 rows x 1037 columns]\n"
          ]
        },
        {
          "output_type": "execute_result",
          "data": {
            "text/plain": [
              "   Patient Number  cg22051636  cg25569462  cg03606258  cg22022041  cg00729708  \\\n",
              "0               1    0.028607    0.118231    0.354948   -0.195587   -0.328310   \n",
              "1               2   -0.421796   -0.484327    0.358169    0.184083    0.058353   \n",
              "2               3   -0.425853   -0.486174    0.017406   -0.183193    0.227653   \n",
              "3               4   -0.449498    0.136772    0.366528   -0.169309    0.151502   \n",
              "4               5    0.230452    0.232878    0.313735    0.187171   -0.371522   \n",
              "\n",
              "   cg07747299  cg14159672  cg12437481  cg20945531  ...  cg25307081  \\\n",
              "0   -0.175936   -0.169272    0.166648    0.013308  ...   -0.043515   \n",
              "1   -0.173480   -0.135551   -0.196084    0.024734  ...   -0.016707   \n",
              "2    0.415791   -0.077909   -0.043989    0.103141  ...   -0.023028   \n",
              "3   -0.191507   -0.125910    0.200092   -0.013143  ...   -0.004660   \n",
              "4   -0.185925    0.564402   -0.209667   -0.318550  ...   -0.003939   \n",
              "\n",
              "   cg02298570  cg03545635  cg07310951  cg02712878  cg04697562  cg20090467  \\\n",
              "0   -0.042265   -0.087791   -0.030244   -0.002556   -0.013288   -0.018405   \n",
              "1   -0.020371    0.002521   -0.022933   -0.042472   -0.011147   -0.048486   \n",
              "2   -0.007988    0.001124    0.033117   -0.066167    0.030863   -0.007400   \n",
              "3    0.007814    0.016429    0.007355   -0.021429    0.031454    0.004433   \n",
              "4    0.007787    0.036709   -0.031628    0.018501    0.004436    0.007735   \n",
              "\n",
              "   cg24150528  cg17036737        Age  \n",
              "0    0.028344    0.041416  20.786301  \n",
              "1   -0.000823   -0.098725  18.158904  \n",
              "2    0.012948   -0.000146  57.868493  \n",
              "3    0.026085    0.015497  19.706849  \n",
              "4    0.001121   -0.015098  61.956164  \n",
              "\n",
              "[5 rows x 1037 columns]"
            ],
            "text/html": [
              "\n",
              "  <div id=\"df-2eee7884-fb88-48db-bb26-1260ed7fabe8\" class=\"colab-df-container\">\n",
              "    <div>\n",
              "<style scoped>\n",
              "    .dataframe tbody tr th:only-of-type {\n",
              "        vertical-align: middle;\n",
              "    }\n",
              "\n",
              "    .dataframe tbody tr th {\n",
              "        vertical-align: top;\n",
              "    }\n",
              "\n",
              "    .dataframe thead th {\n",
              "        text-align: right;\n",
              "    }\n",
              "</style>\n",
              "<table border=\"1\" class=\"dataframe\">\n",
              "  <thead>\n",
              "    <tr style=\"text-align: right;\">\n",
              "      <th></th>\n",
              "      <th>Patient Number</th>\n",
              "      <th>cg22051636</th>\n",
              "      <th>cg25569462</th>\n",
              "      <th>cg03606258</th>\n",
              "      <th>cg22022041</th>\n",
              "      <th>cg00729708</th>\n",
              "      <th>cg07747299</th>\n",
              "      <th>cg14159672</th>\n",
              "      <th>cg12437481</th>\n",
              "      <th>cg20945531</th>\n",
              "      <th>...</th>\n",
              "      <th>cg25307081</th>\n",
              "      <th>cg02298570</th>\n",
              "      <th>cg03545635</th>\n",
              "      <th>cg07310951</th>\n",
              "      <th>cg02712878</th>\n",
              "      <th>cg04697562</th>\n",
              "      <th>cg20090467</th>\n",
              "      <th>cg24150528</th>\n",
              "      <th>cg17036737</th>\n",
              "      <th>Age</th>\n",
              "    </tr>\n",
              "  </thead>\n",
              "  <tbody>\n",
              "    <tr>\n",
              "      <th>0</th>\n",
              "      <td>1</td>\n",
              "      <td>0.028607</td>\n",
              "      <td>0.118231</td>\n",
              "      <td>0.354948</td>\n",
              "      <td>-0.195587</td>\n",
              "      <td>-0.328310</td>\n",
              "      <td>-0.175936</td>\n",
              "      <td>-0.169272</td>\n",
              "      <td>0.166648</td>\n",
              "      <td>0.013308</td>\n",
              "      <td>...</td>\n",
              "      <td>-0.043515</td>\n",
              "      <td>-0.042265</td>\n",
              "      <td>-0.087791</td>\n",
              "      <td>-0.030244</td>\n",
              "      <td>-0.002556</td>\n",
              "      <td>-0.013288</td>\n",
              "      <td>-0.018405</td>\n",
              "      <td>0.028344</td>\n",
              "      <td>0.041416</td>\n",
              "      <td>20.786301</td>\n",
              "    </tr>\n",
              "    <tr>\n",
              "      <th>1</th>\n",
              "      <td>2</td>\n",
              "      <td>-0.421796</td>\n",
              "      <td>-0.484327</td>\n",
              "      <td>0.358169</td>\n",
              "      <td>0.184083</td>\n",
              "      <td>0.058353</td>\n",
              "      <td>-0.173480</td>\n",
              "      <td>-0.135551</td>\n",
              "      <td>-0.196084</td>\n",
              "      <td>0.024734</td>\n",
              "      <td>...</td>\n",
              "      <td>-0.016707</td>\n",
              "      <td>-0.020371</td>\n",
              "      <td>0.002521</td>\n",
              "      <td>-0.022933</td>\n",
              "      <td>-0.042472</td>\n",
              "      <td>-0.011147</td>\n",
              "      <td>-0.048486</td>\n",
              "      <td>-0.000823</td>\n",
              "      <td>-0.098725</td>\n",
              "      <td>18.158904</td>\n",
              "    </tr>\n",
              "    <tr>\n",
              "      <th>2</th>\n",
              "      <td>3</td>\n",
              "      <td>-0.425853</td>\n",
              "      <td>-0.486174</td>\n",
              "      <td>0.017406</td>\n",
              "      <td>-0.183193</td>\n",
              "      <td>0.227653</td>\n",
              "      <td>0.415791</td>\n",
              "      <td>-0.077909</td>\n",
              "      <td>-0.043989</td>\n",
              "      <td>0.103141</td>\n",
              "      <td>...</td>\n",
              "      <td>-0.023028</td>\n",
              "      <td>-0.007988</td>\n",
              "      <td>0.001124</td>\n",
              "      <td>0.033117</td>\n",
              "      <td>-0.066167</td>\n",
              "      <td>0.030863</td>\n",
              "      <td>-0.007400</td>\n",
              "      <td>0.012948</td>\n",
              "      <td>-0.000146</td>\n",
              "      <td>57.868493</td>\n",
              "    </tr>\n",
              "    <tr>\n",
              "      <th>3</th>\n",
              "      <td>4</td>\n",
              "      <td>-0.449498</td>\n",
              "      <td>0.136772</td>\n",
              "      <td>0.366528</td>\n",
              "      <td>-0.169309</td>\n",
              "      <td>0.151502</td>\n",
              "      <td>-0.191507</td>\n",
              "      <td>-0.125910</td>\n",
              "      <td>0.200092</td>\n",
              "      <td>-0.013143</td>\n",
              "      <td>...</td>\n",
              "      <td>-0.004660</td>\n",
              "      <td>0.007814</td>\n",
              "      <td>0.016429</td>\n",
              "      <td>0.007355</td>\n",
              "      <td>-0.021429</td>\n",
              "      <td>0.031454</td>\n",
              "      <td>0.004433</td>\n",
              "      <td>0.026085</td>\n",
              "      <td>0.015497</td>\n",
              "      <td>19.706849</td>\n",
              "    </tr>\n",
              "    <tr>\n",
              "      <th>4</th>\n",
              "      <td>5</td>\n",
              "      <td>0.230452</td>\n",
              "      <td>0.232878</td>\n",
              "      <td>0.313735</td>\n",
              "      <td>0.187171</td>\n",
              "      <td>-0.371522</td>\n",
              "      <td>-0.185925</td>\n",
              "      <td>0.564402</td>\n",
              "      <td>-0.209667</td>\n",
              "      <td>-0.318550</td>\n",
              "      <td>...</td>\n",
              "      <td>-0.003939</td>\n",
              "      <td>0.007787</td>\n",
              "      <td>0.036709</td>\n",
              "      <td>-0.031628</td>\n",
              "      <td>0.018501</td>\n",
              "      <td>0.004436</td>\n",
              "      <td>0.007735</td>\n",
              "      <td>0.001121</td>\n",
              "      <td>-0.015098</td>\n",
              "      <td>61.956164</td>\n",
              "    </tr>\n",
              "  </tbody>\n",
              "</table>\n",
              "<p>5 rows × 1037 columns</p>\n",
              "</div>\n",
              "    <div class=\"colab-df-buttons\">\n",
              "\n",
              "  <div class=\"colab-df-container\">\n",
              "    <button class=\"colab-df-convert\" onclick=\"convertToInteractive('df-2eee7884-fb88-48db-bb26-1260ed7fabe8')\"\n",
              "            title=\"Convert this dataframe to an interactive table.\"\n",
              "            style=\"display:none;\">\n",
              "\n",
              "  <svg xmlns=\"http://www.w3.org/2000/svg\" height=\"24px\" viewBox=\"0 -960 960 960\">\n",
              "    <path d=\"M120-120v-720h720v720H120Zm60-500h600v-160H180v160Zm220 220h160v-160H400v160Zm0 220h160v-160H400v160ZM180-400h160v-160H180v160Zm440 0h160v-160H620v160ZM180-180h160v-160H180v160Zm440 0h160v-160H620v160Z\"/>\n",
              "  </svg>\n",
              "    </button>\n",
              "\n",
              "  <style>\n",
              "    .colab-df-container {\n",
              "      display:flex;\n",
              "      gap: 12px;\n",
              "    }\n",
              "\n",
              "    .colab-df-convert {\n",
              "      background-color: #E8F0FE;\n",
              "      border: none;\n",
              "      border-radius: 50%;\n",
              "      cursor: pointer;\n",
              "      display: none;\n",
              "      fill: #1967D2;\n",
              "      height: 32px;\n",
              "      padding: 0 0 0 0;\n",
              "      width: 32px;\n",
              "    }\n",
              "\n",
              "    .colab-df-convert:hover {\n",
              "      background-color: #E2EBFA;\n",
              "      box-shadow: 0px 1px 2px rgba(60, 64, 67, 0.3), 0px 1px 3px 1px rgba(60, 64, 67, 0.15);\n",
              "      fill: #174EA6;\n",
              "    }\n",
              "\n",
              "    .colab-df-buttons div {\n",
              "      margin-bottom: 4px;\n",
              "    }\n",
              "\n",
              "    [theme=dark] .colab-df-convert {\n",
              "      background-color: #3B4455;\n",
              "      fill: #D2E3FC;\n",
              "    }\n",
              "\n",
              "    [theme=dark] .colab-df-convert:hover {\n",
              "      background-color: #434B5C;\n",
              "      box-shadow: 0px 1px 3px 1px rgba(0, 0, 0, 0.15);\n",
              "      filter: drop-shadow(0px 1px 2px rgba(0, 0, 0, 0.3));\n",
              "      fill: #FFFFFF;\n",
              "    }\n",
              "  </style>\n",
              "\n",
              "    <script>\n",
              "      const buttonEl =\n",
              "        document.querySelector('#df-2eee7884-fb88-48db-bb26-1260ed7fabe8 button.colab-df-convert');\n",
              "      buttonEl.style.display =\n",
              "        google.colab.kernel.accessAllowed ? 'block' : 'none';\n",
              "\n",
              "      async function convertToInteractive(key) {\n",
              "        const element = document.querySelector('#df-2eee7884-fb88-48db-bb26-1260ed7fabe8');\n",
              "        const dataTable =\n",
              "          await google.colab.kernel.invokeFunction('convertToInteractive',\n",
              "                                                    [key], {});\n",
              "        if (!dataTable) return;\n",
              "\n",
              "        const docLinkHtml = 'Like what you see? Visit the ' +\n",
              "          '<a target=\"_blank\" href=https://colab.research.google.com/notebooks/data_table.ipynb>data table notebook</a>'\n",
              "          + ' to learn more about interactive tables.';\n",
              "        element.innerHTML = '';\n",
              "        dataTable['output_type'] = 'display_data';\n",
              "        await google.colab.output.renderOutput(dataTable, element);\n",
              "        const docLink = document.createElement('div');\n",
              "        docLink.innerHTML = docLinkHtml;\n",
              "        element.appendChild(docLink);\n",
              "      }\n",
              "    </script>\n",
              "  </div>\n",
              "\n",
              "\n",
              "<div id=\"df-51df469b-cd08-4da1-a765-004b3a7ebfd3\">\n",
              "  <button class=\"colab-df-quickchart\" onclick=\"quickchart('df-51df469b-cd08-4da1-a765-004b3a7ebfd3')\"\n",
              "            title=\"Suggest charts\"\n",
              "            style=\"display:none;\">\n",
              "\n",
              "<svg xmlns=\"http://www.w3.org/2000/svg\" height=\"24px\"viewBox=\"0 0 24 24\"\n",
              "     width=\"24px\">\n",
              "    <g>\n",
              "        <path d=\"M19 3H5c-1.1 0-2 .9-2 2v14c0 1.1.9 2 2 2h14c1.1 0 2-.9 2-2V5c0-1.1-.9-2-2-2zM9 17H7v-7h2v7zm4 0h-2V7h2v10zm4 0h-2v-4h2v4z\"/>\n",
              "    </g>\n",
              "</svg>\n",
              "  </button>\n",
              "\n",
              "<style>\n",
              "  .colab-df-quickchart {\n",
              "      --bg-color: #E8F0FE;\n",
              "      --fill-color: #1967D2;\n",
              "      --hover-bg-color: #E2EBFA;\n",
              "      --hover-fill-color: #174EA6;\n",
              "      --disabled-fill-color: #AAA;\n",
              "      --disabled-bg-color: #DDD;\n",
              "  }\n",
              "\n",
              "  [theme=dark] .colab-df-quickchart {\n",
              "      --bg-color: #3B4455;\n",
              "      --fill-color: #D2E3FC;\n",
              "      --hover-bg-color: #434B5C;\n",
              "      --hover-fill-color: #FFFFFF;\n",
              "      --disabled-bg-color: #3B4455;\n",
              "      --disabled-fill-color: #666;\n",
              "  }\n",
              "\n",
              "  .colab-df-quickchart {\n",
              "    background-color: var(--bg-color);\n",
              "    border: none;\n",
              "    border-radius: 50%;\n",
              "    cursor: pointer;\n",
              "    display: none;\n",
              "    fill: var(--fill-color);\n",
              "    height: 32px;\n",
              "    padding: 0;\n",
              "    width: 32px;\n",
              "  }\n",
              "\n",
              "  .colab-df-quickchart:hover {\n",
              "    background-color: var(--hover-bg-color);\n",
              "    box-shadow: 0 1px 2px rgba(60, 64, 67, 0.3), 0 1px 3px 1px rgba(60, 64, 67, 0.15);\n",
              "    fill: var(--button-hover-fill-color);\n",
              "  }\n",
              "\n",
              "  .colab-df-quickchart-complete:disabled,\n",
              "  .colab-df-quickchart-complete:disabled:hover {\n",
              "    background-color: var(--disabled-bg-color);\n",
              "    fill: var(--disabled-fill-color);\n",
              "    box-shadow: none;\n",
              "  }\n",
              "\n",
              "  .colab-df-spinner {\n",
              "    border: 2px solid var(--fill-color);\n",
              "    border-color: transparent;\n",
              "    border-bottom-color: var(--fill-color);\n",
              "    animation:\n",
              "      spin 1s steps(1) infinite;\n",
              "  }\n",
              "\n",
              "  @keyframes spin {\n",
              "    0% {\n",
              "      border-color: transparent;\n",
              "      border-bottom-color: var(--fill-color);\n",
              "      border-left-color: var(--fill-color);\n",
              "    }\n",
              "    20% {\n",
              "      border-color: transparent;\n",
              "      border-left-color: var(--fill-color);\n",
              "      border-top-color: var(--fill-color);\n",
              "    }\n",
              "    30% {\n",
              "      border-color: transparent;\n",
              "      border-left-color: var(--fill-color);\n",
              "      border-top-color: var(--fill-color);\n",
              "      border-right-color: var(--fill-color);\n",
              "    }\n",
              "    40% {\n",
              "      border-color: transparent;\n",
              "      border-right-color: var(--fill-color);\n",
              "      border-top-color: var(--fill-color);\n",
              "    }\n",
              "    60% {\n",
              "      border-color: transparent;\n",
              "      border-right-color: var(--fill-color);\n",
              "    }\n",
              "    80% {\n",
              "      border-color: transparent;\n",
              "      border-right-color: var(--fill-color);\n",
              "      border-bottom-color: var(--fill-color);\n",
              "    }\n",
              "    90% {\n",
              "      border-color: transparent;\n",
              "      border-bottom-color: var(--fill-color);\n",
              "    }\n",
              "  }\n",
              "</style>\n",
              "\n",
              "  <script>\n",
              "    async function quickchart(key) {\n",
              "      const quickchartButtonEl =\n",
              "        document.querySelector('#' + key + ' button');\n",
              "      quickchartButtonEl.disabled = true;  // To prevent multiple clicks.\n",
              "      quickchartButtonEl.classList.add('colab-df-spinner');\n",
              "      try {\n",
              "        const charts = await google.colab.kernel.invokeFunction(\n",
              "            'suggestCharts', [key], {});\n",
              "      } catch (error) {\n",
              "        console.error('Error during call to suggestCharts:', error);\n",
              "      }\n",
              "      quickchartButtonEl.classList.remove('colab-df-spinner');\n",
              "      quickchartButtonEl.classList.add('colab-df-quickchart-complete');\n",
              "    }\n",
              "    (() => {\n",
              "      let quickchartButtonEl =\n",
              "        document.querySelector('#df-51df469b-cd08-4da1-a765-004b3a7ebfd3 button');\n",
              "      quickchartButtonEl.style.display =\n",
              "        google.colab.kernel.accessAllowed ? 'block' : 'none';\n",
              "    })();\n",
              "  </script>\n",
              "</div>\n",
              "\n",
              "    </div>\n",
              "  </div>\n"
            ],
            "application/vnd.google.colaboratory.intrinsic+json": {
              "type": "dataframe",
              "variable_name": "df_sites"
            }
          },
          "metadata": {},
          "execution_count": 182
        }
      ]
    },
    {
      "cell_type": "code",
      "source": [
        "#Using any regression model, predict the age of the patients\n",
        "#First we split the data into training and testing sets\n",
        "X = df_sites.drop('Age', axis=1) #The Features\n",
        "y = df_sites['Age'] #The Target\n",
        "X_train, X_test, y_train, y_test = train_test_split(X, y, test_size=0.2, random_state=42) #split, #training size is 80%\n"
      ],
      "metadata": {
        "id": "KwPwdVk3oT3S"
      },
      "execution_count": 154,
      "outputs": []
    },
    {
      "cell_type": "code",
      "source": [
        "#We inisialise a Linear Regression model for feature selection\n",
        "linear_model_fs = LinearRegression()\n",
        "\n",
        "#Recursive Feature Elimination\n",
        "#I select 1000 feature here\n",
        "rfe = RFE(estimator=linear_model_fs, n_features_to_select=1000)\n",
        "rfe.fit(X_train, y_train)\n",
        "\n",
        "#Get and print the selected features\n",
        "selected_features = X_train.columns[rfe.support_]\n",
        "print(\"Selected Features:\", selected_features)"
      ],
      "metadata": {
        "colab": {
          "base_uri": "https://localhost:8080/"
        },
        "id": "60TkHJtBqTpv",
        "outputId": "21e597b7-c6cf-429b-dca0-f5ac4d16088f"
      },
      "execution_count": 155,
      "outputs": [
        {
          "output_type": "stream",
          "name": "stdout",
          "text": [
            "Selected Features: Index(['cg22051636', 'cg25569462', 'cg03606258', 'cg22022041', 'cg00729708',\n",
            "       'cg07747299', 'cg14159672', 'cg12437481', 'cg20945531', 'cg13284426',\n",
            "       ...\n",
            "       'cg14766682', 'cg21096966', 'cg02298570', 'cg03545635', 'cg07310951',\n",
            "       'cg02712878', 'cg04697562', 'cg20090467', 'cg24150528', 'cg17036737'],\n",
            "      dtype='object', length=1000)\n"
          ]
        }
      ]
    },
    {
      "cell_type": "code",
      "source": [
        "#Perform linear regression\n",
        "linear_model = LinearRegression()\n",
        "linear_model.fit(X_train[selected_features], y_train)\n",
        "\n",
        "#Predict on the test set\n",
        "y_pred = linear_model.predict(X_test[selected_features])\n",
        "print(y_pred)\n",
        "\n",
        "#Calculate the mean squared error\n",
        "mse = mean_squared_error(y_test, y_pred)\n",
        "print(f\"Mean Squared Error: {mse}\")\n",
        "\n",
        "#Evaluate the model by calculating the R-squares (two ways of doing that, below),\n",
        "#R-squared indicates the goodness of fit. The closer to 1, the better the model.\n",
        "print(f\"Model Score: {linear_model.score(X_test[selected_features], y_test)}\")\n",
        "#Calculate R-squared\n",
        "r2 = r2_score(y_test, y_pred)\n",
        "print(f\"R-squared of the model with 1000 features: {r2}\")"
      ],
      "metadata": {
        "colab": {
          "base_uri": "https://localhost:8080/"
        },
        "id": "hw3jxRWorHiv",
        "outputId": "2ca5a6a9-db5e-4515-8d09-2fbbd1c68f94"
      },
      "execution_count": 156,
      "outputs": [
        {
          "output_type": "stream",
          "name": "stdout",
          "text": [
            "[-0.80372162 54.69630131 52.58331819  3.73511047 -2.83698005 24.56249175\n",
            " 20.87867524 44.61591692 27.33455787 37.78493986 -2.28402732 -0.6175883\n",
            " 25.2800651  -2.81837097 63.41609393 11.16821981 55.55604043  3.06656947\n",
            "  3.77576867 50.15523363 62.23933925 48.61335877]\n",
            "Mean Squared Error: 103.63116266542593\n",
            "Model Score: 0.8503146365011985\n",
            "R-squared of the model with 1000 features: 0.8503146365011985\n"
          ]
        }
      ]
    },
    {
      "cell_type": "code",
      "source": [
        "#Perform the Random Forest Regression\n",
        "rf_model = RandomForestRegressor(n_estimators=100, random_state=42)\n",
        "rf_model.fit(X_train[selected_features], y_train)\n",
        "\n",
        "#Predict on the test set\n",
        "y_pred_rf = rf_model.predict(X_test[selected_features])\n",
        "\n",
        "#Calculate the mean squared error for Random Forest\n",
        "mse_rf = mean_squared_error(y_test, y_pred_rf)\n",
        "\n",
        "#print\n",
        "print(f\"Random Forest Regression MSE with feature selection: {mse_rf}\")\n",
        "#evaluate the model\n",
        "print(f\"Model Score: {rf_model.score(X_test[selected_features], y_test)}\")\n"
      ],
      "metadata": {
        "colab": {
          "base_uri": "https://localhost:8080/"
        },
        "id": "LmGoji0ZsVlV",
        "outputId": "2b0adde5-0fa9-4165-c4f6-8aa8cba22bb3"
      },
      "execution_count": 157,
      "outputs": [
        {
          "output_type": "stream",
          "name": "stdout",
          "text": [
            "Random Forest Regression MSE with feature selection: 371.36086494911126\n",
            "Model Score: 0.4636045314033478\n"
          ]
        }
      ]
    },
    {
      "cell_type": "markdown",
      "source": [
        "By looking at the MSE and goodness of fit of the two models, the model with lower MSE and R2 is Linear regression. So, we will carry on using this model."
      ],
      "metadata": {
        "id": "y36HaMJDtGMM"
      }
    },
    {
      "cell_type": "code",
      "source": [
        "#Now we see the performance of the linear regression model while progressively reducing the features\n",
        "#with 90 features\n",
        "#We inisialise a Linear Regression model for feature selection\n",
        "linear_model_fs = LinearRegression()\n",
        "\n",
        "#Recursive Feature Elimination\n",
        "#I select the first 90 feature here\n",
        "rfe = RFE(estimator=linear_model_fs, n_features_to_select=90)\n",
        "rfe.fit(X_train, y_train)\n",
        "\n",
        "#Get and print the selected features\n",
        "selected_features_90 = X_train.columns[rfe.support_]\n",
        "print(\"Selected Features:\", selected_features_90)"
      ],
      "metadata": {
        "colab": {
          "base_uri": "https://localhost:8080/"
        },
        "id": "9MCgQlExyfHD",
        "outputId": "2f18c6d5-5f76-4740-beeb-7645278d8eb0"
      },
      "execution_count": 158,
      "outputs": [
        {
          "output_type": "stream",
          "name": "stdout",
          "text": [
            "Selected Features: Index(['cg03606258', 'cg00729708', 'cg12437481', 'cg16106497', 'cg20507276',\n",
            "       'cg18920397', 'cg01889448', 'cg20540428', 'cg05187322', 'cg23280807',\n",
            "       'cg22432908', 'cg17711541', 'cg00298951', 'cg23183296', 'cg19668234',\n",
            "       'cg12188860', 'cg15403517', 'cg14813083', 'cg21992250', 'cg05590257',\n",
            "       'cg03882305', 'cg21116314', 'cg04987894', 'cg15842276', 'cg12454167',\n",
            "       'cg14951292', 'cg03874127', 'cg08832227', 'cg24993443', 'cg26020513',\n",
            "       'cg20903926', 'cg21561173', 'cg16112050', 'cg27644292', 'cg02946570',\n",
            "       'cg21165219', 'cg00406188', 'cg02828104', 'cg21306775', 'cg18829411',\n",
            "       'cg08952029', 'cg04622802', 'cg02729303', 'cg18540325', 'cg05590982',\n",
            "       'cg10135717', 'cg09835085', 'cg00242839', 'cg17003970', 'cg22373112',\n",
            "       'cg19107595', 'cg14592065', 'cg07997737', 'cg08961832', 'cg24378421',\n",
            "       'cg19000186', 'cg02654291', 'cg06818473', 'cg24164563', 'cg04451770',\n",
            "       'cg08459368', 'cg07109801', 'cg19428735', 'cg05982504', 'cg11079619',\n",
            "       'cg20491707', 'cg14463304', 'cg19923810', 'cg15407570', 'cg26206598',\n",
            "       'cg01680762', 'cg00333528', 'cg19636861', 'cg16708981', 'cg03918304',\n",
            "       'cg01457622', 'cg14223444', 'cg21842274', 'cg19335327', 'cg23061257',\n",
            "       'cg23813257', 'cg13633560', 'cg06914598', 'cg26033681', 'cg01667702',\n",
            "       'cg17786776', 'cg19202384', 'cg20582779', 'cg21400896', 'cg19372178'],\n",
            "      dtype='object')\n"
          ]
        }
      ]
    },
    {
      "cell_type": "code",
      "source": [
        "#Perform linear regression\n",
        "linear_model = LinearRegression()\n",
        "linear_model.fit(X_train[selected_features_90], y_train)\n",
        "\n",
        "#Predict on the test set\n",
        "y_pred = linear_model.predict(X_test[selected_features_90])\n",
        "print(f\"selected features: {y_pred}\")\n",
        "\n",
        "#Calculate the mean squared error\n",
        "mse_90 = mean_squared_error(y_test, y_pred)\n",
        "print(f\"Mean Squared Error: {mse_90}\")\n",
        "\n",
        "#Evaluate the model by calculating the R-squares (two ways of doing that, below),\n",
        "#R-squared indicates the goodness of fit. The closer to 1, the better the model.\n",
        "print(f\"Model Score: {linear_model.score(X_test[selected_features_90], y_test)}\")\n",
        "#Calculate R-squared\n",
        "r2 = r2_score(y_test, y_pred)\n",
        "print(f\"R-squared of the model with 90 features: {r2}\")"
      ],
      "metadata": {
        "colab": {
          "base_uri": "https://localhost:8080/"
        },
        "id": "HMygeMjYy6vq",
        "outputId": "19edbd9f-212a-4d69-e5a0-9919bba1e195"
      },
      "execution_count": 159,
      "outputs": [
        {
          "output_type": "stream",
          "name": "stdout",
          "text": [
            "selected features: [ -8.73782222  56.1336671   52.11187401  -6.33349641  -5.3527745\n",
            "   8.64467945  29.3185273   44.24230135  34.54711149  37.05079612\n",
            " -14.47493548   8.8974723   28.25537565  -5.04647658  64.10295142\n",
            "  -1.87829644  48.89354939   0.92942344  -0.41728901  55.67381843\n",
            "  65.48483437  48.16091557]\n",
            "Mean Squared Error: 114.73241479411664\n",
            "Model Score: 0.8342799330641667\n",
            "R-squared of the model with 90 features: 0.8342799330641667\n"
          ]
        }
      ]
    },
    {
      "cell_type": "code",
      "source": [
        "#with 80 features\n",
        "#We inisialise a Linear Regression model for feature selection\n",
        "linear_model_fs = LinearRegression()\n",
        "\n",
        "#Recursive Feature Elimination\n",
        "#I select 80 feature here\n",
        "rfe = RFE(estimator=linear_model_fs, n_features_to_select=80)\n",
        "rfe.fit(X_train, y_train)\n",
        "\n",
        "#Get and print the selected features\n",
        "selected_features_80 = X_train.columns[rfe.support_]\n",
        "print(\"Selected Features:\", selected_features_80)"
      ],
      "metadata": {
        "colab": {
          "base_uri": "https://localhost:8080/"
        },
        "id": "5qLILFhGzCCh",
        "outputId": "ba0a73cd-9898-434b-8630-f32142adb245"
      },
      "execution_count": 160,
      "outputs": [
        {
          "output_type": "stream",
          "name": "stdout",
          "text": [
            "Selected Features: Index(['cg03606258', 'cg00729708', 'cg12437481', 'cg16106497', 'cg20507276',\n",
            "       'cg18920397', 'cg01889448', 'cg20540428', 'cg05187322', 'cg23280807',\n",
            "       'cg22432908', 'cg17711541', 'cg00298951', 'cg23183296', 'cg19668234',\n",
            "       'cg12188860', 'cg15403517', 'cg21992250', 'cg05590257', 'cg03882305',\n",
            "       'cg21116314', 'cg04987894', 'cg15842276', 'cg12454167', 'cg14951292',\n",
            "       'cg03874127', 'cg08832227', 'cg24993443', 'cg26020513', 'cg20903926',\n",
            "       'cg21561173', 'cg16112050', 'cg27644292', 'cg02946570', 'cg21165219',\n",
            "       'cg00406188', 'cg02828104', 'cg21306775', 'cg18829411', 'cg08952029',\n",
            "       'cg04622802', 'cg02729303', 'cg05590982', 'cg10135717', 'cg09835085',\n",
            "       'cg00242839', 'cg17003970', 'cg22373112', 'cg19107595', 'cg07997737',\n",
            "       'cg24378421', 'cg19000186', 'cg02654291', 'cg06818473', 'cg24164563',\n",
            "       'cg04451770', 'cg07109801', 'cg19428735', 'cg05982504', 'cg14463304',\n",
            "       'cg15407570', 'cg26206598', 'cg01680762', 'cg00333528', 'cg19636861',\n",
            "       'cg16708981', 'cg03918304', 'cg01457622', 'cg14223444', 'cg21842274',\n",
            "       'cg19335327', 'cg23061257', 'cg23813257', 'cg06914598', 'cg26033681',\n",
            "       'cg01667702', 'cg17786776', 'cg19202384', 'cg20582779', 'cg19372178'],\n",
            "      dtype='object')\n"
          ]
        }
      ]
    },
    {
      "cell_type": "code",
      "source": [
        "#Perform linear regression with 80 features\n",
        "linear_model = LinearRegression()\n",
        "linear_model.fit(X_train[selected_features_80], y_train)\n",
        "\n",
        "#Predict on the test set\n",
        "y_pred = linear_model.predict(X_test[selected_features_80])\n",
        "print(f\"selected features: {y_pred}\")\n",
        "\n",
        "#Calculate the mean squared error\n",
        "mse_80 = mean_squared_error(y_test, y_pred)\n",
        "print(f\"Mean Squared Error: {mse_80}\")\n",
        "\n",
        "#Evaluate the model by calculating the R-squares (two ways of doing that, below),\n",
        "#R-squared indicates the goodness of fit. The closer to 1, the better the model.\n",
        "print(f\"Model Score: {linear_model.score(X_test[selected_features_80], y_test)}\")\n",
        "#Calculate R-squared\n",
        "r2 = r2_score(y_test, y_pred)\n",
        "print(f\"R-squared of the model with 80 features: {r2}\")"
      ],
      "metadata": {
        "colab": {
          "base_uri": "https://localhost:8080/"
        },
        "id": "mNoy0WRizMkP",
        "outputId": "4bdde486-f46a-4c34-ee6d-fb6830ef6ac8"
      },
      "execution_count": 161,
      "outputs": [
        {
          "output_type": "stream",
          "name": "stdout",
          "text": [
            "selected features: [-11.24356246  56.97507499  49.19166834  -7.61212576  -4.95035183\n",
            "   9.62165437  28.27561782  45.86070452  31.26855812  33.96419536\n",
            " -11.82236963   5.30029077  27.51110028  -5.76505268  69.30267491\n",
            "  -4.15760347  49.2860271    2.60843082  -1.70476795  53.84136342\n",
            "  64.15134852  47.528615  ]\n",
            "Mean Squared Error: 99.10555363012426\n",
            "Model Score: 0.8568514485573331\n",
            "R-squared of the model with 80 features: 0.8568514485573331\n"
          ]
        }
      ]
    },
    {
      "cell_type": "code",
      "source": [
        "#with 70 features\n",
        "#We inisialise a Linear Regression model for feature selection\n",
        "linear_model_fs = LinearRegression()\n",
        "\n",
        "#Recursive Feature Elimination\n",
        "#I select 70 feature here\n",
        "rfe = RFE(estimator=linear_model_fs, n_features_to_select=70)\n",
        "rfe.fit(X_train, y_train)\n",
        "\n",
        "#Get and print the selected features\n",
        "selected_features_70 = X_train.columns[rfe.support_]\n",
        "print(\"Selected Features:\", selected_features_70)"
      ],
      "metadata": {
        "colab": {
          "base_uri": "https://localhost:8080/"
        },
        "id": "M6DyINJpzqzg",
        "outputId": "19cf6952-cd45-4c7e-c9af-7196f787ce02"
      },
      "execution_count": 162,
      "outputs": [
        {
          "output_type": "stream",
          "name": "stdout",
          "text": [
            "Selected Features: Index(['cg03606258', 'cg00729708', 'cg12437481', 'cg20507276', 'cg18920397',\n",
            "       'cg01889448', 'cg20540428', 'cg05187322', 'cg22432908', 'cg17711541',\n",
            "       'cg00298951', 'cg23183296', 'cg19668234', 'cg12188860', 'cg15403517',\n",
            "       'cg21992250', 'cg05590257', 'cg03882305', 'cg21116314', 'cg04987894',\n",
            "       'cg15842276', 'cg12454167', 'cg14951292', 'cg03874127', 'cg08832227',\n",
            "       'cg24993443', 'cg26020513', 'cg21561173', 'cg02946570', 'cg21165219',\n",
            "       'cg00406188', 'cg02828104', 'cg21306775', 'cg18829411', 'cg08952029',\n",
            "       'cg04622802', 'cg02729303', 'cg05590982', 'cg10135717', 'cg09835085',\n",
            "       'cg00242839', 'cg17003970', 'cg22373112', 'cg19107595', 'cg07997737',\n",
            "       'cg24378421', 'cg02654291', 'cg06818473', 'cg24164563', 'cg07109801',\n",
            "       'cg05982504', 'cg14463304', 'cg26206598', 'cg01680762', 'cg00333528',\n",
            "       'cg19636861', 'cg16708981', 'cg03918304', 'cg01457622', 'cg14223444',\n",
            "       'cg21842274', 'cg19335327', 'cg23061257', 'cg06914598', 'cg26033681',\n",
            "       'cg01667702', 'cg17786776', 'cg19202384', 'cg20582779', 'cg19372178'],\n",
            "      dtype='object')\n"
          ]
        }
      ]
    },
    {
      "cell_type": "code",
      "source": [
        "#Perform linear regression with 70 features\n",
        "linear_model = LinearRegression()\n",
        "linear_model.fit(X_train[selected_features_70], y_train)\n",
        "\n",
        "#Predict on the test set\n",
        "y_pred = linear_model.predict(X_test[selected_features_70])\n",
        "print(f\"selected features: {y_pred}\")\n",
        "\n",
        "#Calculate the mean squared error\n",
        "mse_70 = mean_squared_error(y_test, y_pred)\n",
        "print(f\"Mean Squared Error: {mse_70}\")\n",
        "\n",
        "#Evaluate the model by calculating the R-squares (two ways of doing that, below),\n",
        "#R-squared indicates the goodness of fit. The closer to 1, the better the model.\n",
        "print(f\"Model Score: {linear_model.score(X_test[selected_features_70], y_test)}\")\n",
        "#Calculate R-squared\n",
        "r2 = r2_score(y_test, y_pred)\n",
        "print(f\"R-squared of the model with 70 features: {r2}\")"
      ],
      "metadata": {
        "colab": {
          "base_uri": "https://localhost:8080/"
        },
        "id": "UWHnqU0-zwbx",
        "outputId": "8933b7cf-fff2-432d-ea4f-c3b8d25100d3"
      },
      "execution_count": 163,
      "outputs": [
        {
          "output_type": "stream",
          "name": "stdout",
          "text": [
            "selected features: [-1.53693117e+01  5.61036214e+01  5.16950644e+01 -7.90292662e+00\n",
            "  5.33364831e-02  1.30753804e+01  3.20697505e+01  4.62304721e+01\n",
            "  3.03508210e+01  3.54378199e+01 -1.40069269e+01  2.30342020e+00\n",
            "  2.28960558e+01 -4.94919082e+00  7.46903884e+01 -5.12991462e-02\n",
            "  5.36654584e+01  5.24868561e-01 -1.08024287e+01  5.72155315e+01\n",
            "  6.27870752e+01  4.88857416e+01]\n",
            "Mean Squared Error: 112.6604256334505\n",
            "Model Score: 0.8372727244475964\n",
            "R-squared of the model with 70 features: 0.8372727244475964\n"
          ]
        }
      ]
    },
    {
      "cell_type": "code",
      "source": [
        "#with 60 features\n",
        "#We inisialise a Linear Regression model for feature selection\n",
        "linear_model_fs = LinearRegression()\n",
        "\n",
        "#Recursive Feature Elimination\n",
        "#I select 60 feature here\n",
        "rfe = RFE(estimator=linear_model_fs, n_features_to_select=60)\n",
        "rfe.fit(X_train, y_train)\n",
        "\n",
        "#Get and print the selected features\n",
        "selected_features_60 = X_train.columns[rfe.support_]\n",
        "print(\"Selected Features:\", selected_features_60)"
      ],
      "metadata": {
        "colab": {
          "base_uri": "https://localhost:8080/"
        },
        "id": "7KVuf6jHz8vF",
        "outputId": "3d5043b9-fc7a-4a9f-b8ed-749acf44b7f4"
      },
      "execution_count": 164,
      "outputs": [
        {
          "output_type": "stream",
          "name": "stdout",
          "text": [
            "Selected Features: Index(['cg00729708', 'cg12437481', 'cg20507276', 'cg20540428', 'cg05187322',\n",
            "       'cg22432908', 'cg17711541', 'cg00298951', 'cg23183296', 'cg19668234',\n",
            "       'cg12188860', 'cg15403517', 'cg21992250', 'cg05590257', 'cg03882305',\n",
            "       'cg21116314', 'cg04987894', 'cg15842276', 'cg14951292', 'cg03874127',\n",
            "       'cg08832227', 'cg24993443', 'cg26020513', 'cg21561173', 'cg02946570',\n",
            "       'cg02828104', 'cg21306775', 'cg18829411', 'cg08952029', 'cg04622802',\n",
            "       'cg02729303', 'cg05590982', 'cg10135717', 'cg09835085', 'cg00242839',\n",
            "       'cg17003970', 'cg22373112', 'cg19107595', 'cg07997737', 'cg24378421',\n",
            "       'cg02654291', 'cg06818473', 'cg07109801', 'cg05982504', 'cg14463304',\n",
            "       'cg26206598', 'cg01680762', 'cg19636861', 'cg16708981', 'cg03918304',\n",
            "       'cg14223444', 'cg19335327', 'cg23061257', 'cg06914598', 'cg26033681',\n",
            "       'cg01667702', 'cg17786776', 'cg19202384', 'cg20582779', 'cg19372178'],\n",
            "      dtype='object')\n"
          ]
        }
      ]
    },
    {
      "cell_type": "code",
      "source": [
        "#Perform linear regression with 60 features\n",
        "linear_model = LinearRegression()\n",
        "linear_model.fit(X_train[selected_features_60], y_train)\n",
        "\n",
        "#Predict on the test set\n",
        "y_pred = linear_model.predict(X_test[selected_features_60])\n",
        "print(f\"selected features: {y_pred}\")\n",
        "\n",
        "#Calculate the mean squared error\n",
        "mse_60 = mean_squared_error(y_test, y_pred)\n",
        "print(f\"Mean Squared Error: {mse_60}\")\n",
        "\n",
        "#Evaluate the model by calculating the R-squares (two ways of doing that, below),\n",
        "#R-squared indicates the goodness of fit. The closer to 1, the better the model.\n",
        "print(f\"Model Score: {linear_model.score(X_test[selected_features_60], y_test)}\")\n",
        "#Calculate R-squared\n",
        "r2 = r2_score(y_test, y_pred)\n",
        "print(f\"R-squared of the model with 60 features: {r2}\")"
      ],
      "metadata": {
        "colab": {
          "base_uri": "https://localhost:8080/"
        },
        "id": "c8uKXgPHz_He",
        "outputId": "64ec6b43-d6de-4ccd-b641-110c66aa56b3"
      },
      "execution_count": 165,
      "outputs": [
        {
          "output_type": "stream",
          "name": "stdout",
          "text": [
            "selected features: [-22.02018165  53.63423872  49.53181439  -7.16359741   1.89623256\n",
            "  14.23551532  27.94983311  44.20384661  43.29491663  33.06970847\n",
            " -10.70309155  10.98848573  27.39111201  -6.1801712   76.14298965\n",
            "  -0.30607325  50.39808466  14.38099008  -9.58580786  55.25770737\n",
            "  59.85531904  48.03875435]\n",
            "Mean Squared Error: 177.32992626987183\n",
            "Model Score: 0.743863778131893\n",
            "R-squared of the model with 60 features: 0.743863778131893\n"
          ]
        }
      ]
    },
    {
      "cell_type": "code",
      "source": [
        "#with 50 features\n",
        "#We inisialise a Linear Regression model for feature selection\n",
        "linear_model_fs = LinearRegression()\n",
        "\n",
        "#Recursive Feature Elimination\n",
        "#I select 50 feature here\n",
        "rfe = RFE(estimator=linear_model_fs, n_features_to_select=50)\n",
        "rfe.fit(X_train, y_train)\n",
        "\n",
        "#Get and print the selected features\n",
        "selected_features_50 = X_train.columns[rfe.support_]\n",
        "print(\"Selected Features:\", selected_features_50)"
      ],
      "metadata": {
        "colab": {
          "base_uri": "https://localhost:8080/"
        },
        "id": "fY5KdqaW0NwE",
        "outputId": "f34f514e-c456-4827-a73a-27146add7f94"
      },
      "execution_count": 166,
      "outputs": [
        {
          "output_type": "stream",
          "name": "stdout",
          "text": [
            "Selected Features: Index(['cg12437481', 'cg20540428', 'cg22432908', 'cg17711541', 'cg00298951',\n",
            "       'cg23183296', 'cg19668234', 'cg12188860', 'cg15403517', 'cg21992250',\n",
            "       'cg05590257', 'cg03882305', 'cg21116314', 'cg04987894', 'cg15842276',\n",
            "       'cg14951292', 'cg03874127', 'cg08832227', 'cg26020513', 'cg02946570',\n",
            "       'cg02828104', 'cg08952029', 'cg02729303', 'cg05590982', 'cg09835085',\n",
            "       'cg00242839', 'cg17003970', 'cg22373112', 'cg19107595', 'cg07997737',\n",
            "       'cg24378421', 'cg02654291', 'cg06818473', 'cg07109801', 'cg05982504',\n",
            "       'cg14463304', 'cg26206598', 'cg01680762', 'cg19636861', 'cg16708981',\n",
            "       'cg03918304', 'cg19335327', 'cg23061257', 'cg06914598', 'cg26033681',\n",
            "       'cg01667702', 'cg17786776', 'cg19202384', 'cg20582779', 'cg19372178'],\n",
            "      dtype='object')\n"
          ]
        }
      ]
    },
    {
      "cell_type": "code",
      "source": [
        "#Perform linear regression with 50 features\n",
        "linear_model = LinearRegression()\n",
        "linear_model.fit(X_train[selected_features_50], y_train)\n",
        "\n",
        "#Predict on the test set\n",
        "y_pred = linear_model.predict(X_test[selected_features_50])\n",
        "print(f\"selected features: {y_pred}\")\n",
        "\n",
        "#Calculate the mean squared error\n",
        "mse_50 = mean_squared_error(y_test, y_pred)\n",
        "print(f\"Mean Squared Error: {mse_50}\")\n",
        "\n",
        "#Evaluate the model by calculating the R-squares (two ways of doing that, below),\n",
        "#R-squared indicates the goodness of fit. The closer to 1, the better the model.\n",
        "print(f\"Model Score: {linear_model.score(X_test[selected_features_50], y_test)}\")\n",
        "#Calculate R-squared\n",
        "r2 = r2_score(y_test, y_pred)\n",
        "print(f\"R-squared of the model with 50 features: {r2}\")"
      ],
      "metadata": {
        "colab": {
          "base_uri": "https://localhost:8080/"
        },
        "id": "k6ou5Vbe0paI",
        "outputId": "3e610d07-8125-44a7-84cf-e2a96cedb862"
      },
      "execution_count": 167,
      "outputs": [
        {
          "output_type": "stream",
          "name": "stdout",
          "text": [
            "selected features: [-23.14488205  53.47154417  53.58781293 -11.62116668   4.48102825\n",
            "  17.56519472  30.11657863  43.47531794  51.41617113  32.4855453\n",
            "  -8.12933015   9.2363631   30.21162412  -7.72954351  81.07505394\n",
            "  -3.75475806  57.72066961  13.09583533 -16.36553574  55.23984942\n",
            "  58.47588001  50.33989529]\n",
            "Mean Squared Error: 233.7925401024686\n",
            "Model Score: 0.6623088996740409\n",
            "R-squared of the model with 50 features: 0.6623088996740409\n"
          ]
        }
      ]
    },
    {
      "cell_type": "code",
      "source": [
        "#with 40 features\n",
        "#We inisialise a Linear Regression model for feature selection\n",
        "linear_model_fs = LinearRegression()\n",
        "\n",
        "#Recursive Feature Elimination\n",
        "#I select 40 feature here\n",
        "rfe = RFE(estimator=linear_model_fs, n_features_to_select=40)\n",
        "rfe.fit(X_train, y_train)\n",
        "\n",
        "#Get and print the selected features\n",
        "selected_features_40 = X_train.columns[rfe.support_]\n",
        "print(\"Selected Features:\", selected_features_40)"
      ],
      "metadata": {
        "colab": {
          "base_uri": "https://localhost:8080/"
        },
        "id": "yEKIMxSP01YK",
        "outputId": "3fe1c358-865a-4649-898a-2c2bac21a86b"
      },
      "execution_count": 168,
      "outputs": [
        {
          "output_type": "stream",
          "name": "stdout",
          "text": [
            "Selected Features: Index(['cg12437481', 'cg17711541', 'cg00298951', 'cg23183296', 'cg19668234',\n",
            "       'cg12188860', 'cg21992250', 'cg05590257', 'cg03882305', 'cg21116314',\n",
            "       'cg04987894', 'cg14951292', 'cg03874127', 'cg26020513', 'cg02946570',\n",
            "       'cg02828104', 'cg08952029', 'cg09835085', 'cg17003970', 'cg22373112',\n",
            "       'cg19107595', 'cg07997737', 'cg24378421', 'cg02654291', 'cg06818473',\n",
            "       'cg07109801', 'cg26206598', 'cg01680762', 'cg19636861', 'cg16708981',\n",
            "       'cg03918304', 'cg19335327', 'cg23061257', 'cg06914598', 'cg26033681',\n",
            "       'cg01667702', 'cg17786776', 'cg19202384', 'cg20582779', 'cg19372178'],\n",
            "      dtype='object')\n"
          ]
        }
      ]
    },
    {
      "cell_type": "code",
      "source": [
        "#Perform linear regression with 40 features\n",
        "linear_model = LinearRegression()\n",
        "linear_model.fit(X_train[selected_features_40], y_train)\n",
        "\n",
        "#Predict on the test set\n",
        "y_pred = linear_model.predict(X_test[selected_features_40])\n",
        "print(f\"selected features: {y_pred}\")\n",
        "\n",
        "#Calculate the mean squared error\n",
        "mse_40 = mean_squared_error(y_test, y_pred)\n",
        "print(f\"Mean Squared Error: {mse_40}\")\n",
        "\n",
        "#Evaluate the model by calculating the R-squares (two ways of doing that, below),\n",
        "#R-squared indicates the goodness of fit. The closer to 1, the better the model.\n",
        "print(f\"Model Score: {linear_model.score(X_test[selected_features_40], y_test)}\")\n",
        "#Calculate R-squared\n",
        "r2 = r2_score(y_test, y_pred)\n",
        "print(f\"R-squared of the model with 40 features: {r2}\")"
      ],
      "metadata": {
        "colab": {
          "base_uri": "https://localhost:8080/"
        },
        "id": "zfs02QCR05-w",
        "outputId": "f079af4d-0016-46ea-82ea-096fd26725c6"
      },
      "execution_count": 169,
      "outputs": [
        {
          "output_type": "stream",
          "name": "stdout",
          "text": [
            "selected features: [-24.70842389  50.1687061   52.36906475 -18.95670047   0.430189\n",
            "  12.38417945  25.51929087  48.3240617   62.80141512  39.67489893\n",
            "  -9.11685337   2.43361024  25.79211918   1.12235957  78.57080527\n",
            "  -5.32300682  62.46408677   6.55305064 -18.1270585   57.50350311\n",
            "  46.14625989  51.11659989]\n",
            "Mean Squared Error: 295.16774613329596\n",
            "Model Score: 0.5736582487670505\n",
            "R-squared of the model with 40 features: 0.5736582487670505\n"
          ]
        }
      ]
    },
    {
      "cell_type": "code",
      "source": [
        "#with 30 features\n",
        "#We inisialise a Linear Regression model for feature selection\n",
        "linear_model_fs = LinearRegression()\n",
        "\n",
        "#Recursive Feature Elimination\n",
        "#I select 30 feature here\n",
        "rfe = RFE(estimator=linear_model_fs, n_features_to_select=30)\n",
        "rfe.fit(X_train, y_train)\n",
        "\n",
        "#Get and print the selected features\n",
        "selected_features_30 = X_train.columns[rfe.support_]\n",
        "print(\"Selected Features:\", selected_features_30)"
      ],
      "metadata": {
        "colab": {
          "base_uri": "https://localhost:8080/"
        },
        "id": "04yunI-e1MxQ",
        "outputId": "c42cbb7c-2fe1-419c-cb91-03c6d354905e"
      },
      "execution_count": 170,
      "outputs": [
        {
          "output_type": "stream",
          "name": "stdout",
          "text": [
            "Selected Features: Index(['cg00298951', 'cg23183296', 'cg21992250', 'cg05590257', 'cg04987894',\n",
            "       'cg14951292', 'cg03874127', 'cg26020513', 'cg02946570', 'cg02828104',\n",
            "       'cg08952029', 'cg09835085', 'cg17003970', 'cg22373112', 'cg19107595',\n",
            "       'cg07997737', 'cg02654291', 'cg06818473', 'cg07109801', 'cg01680762',\n",
            "       'cg19636861', 'cg16708981', 'cg19335327', 'cg23061257', 'cg26033681',\n",
            "       'cg01667702', 'cg17786776', 'cg19202384', 'cg20582779', 'cg19372178'],\n",
            "      dtype='object')\n"
          ]
        }
      ]
    },
    {
      "cell_type": "code",
      "source": [
        "#Perform linear regression with 30 features\n",
        "linear_model = LinearRegression()\n",
        "linear_model.fit(X_train[selected_features_30], y_train)\n",
        "\n",
        "#Predict on the test set\n",
        "y_pred = linear_model.predict(X_test[selected_features_30])\n",
        "print(f\"selected features: {y_pred}\")\n",
        "\n",
        "#Calculate the mean squared error\n",
        "mse_30 = mean_squared_error(y_test, y_pred)\n",
        "print(f\"Mean Squared Error: {mse_30}\")\n",
        "\n",
        "#Evaluate the model by calculating the R-squares (two ways of doing that, below),\n",
        "#R-squared indicates the goodness of fit. The closer to 1, the better the model.\n",
        "print(f\"Model Score: {linear_model.score(X_test[selected_features_30], y_test)}\")\n",
        "#Calculate R-squared\n",
        "r2 = r2_score(y_test, y_pred)\n",
        "print(f\"R-squared of the model with 30 features: {r2}\")"
      ],
      "metadata": {
        "colab": {
          "base_uri": "https://localhost:8080/"
        },
        "id": "5AQ4_XN51Pie",
        "outputId": "67b4a43f-cded-4478-ffa2-f2e96d6323a6"
      },
      "execution_count": 171,
      "outputs": [
        {
          "output_type": "stream",
          "name": "stdout",
          "text": [
            "selected features: [-18.06768915  54.88646354  42.0473102  -22.41022276   2.47223195\n",
            "   8.5557027   15.32875402  51.15796677  67.24759534  51.00880243\n",
            " -14.99368885  -2.48028967  26.48143874  12.45951991  85.3250543\n",
            "   0.33032097  62.8495432   -1.21660515 -23.84708395  58.59443158\n",
            "  41.49946817  57.98773153]\n",
            "Mean Squared Error: 375.03703999452114\n",
            "Model Score: 0.45829464600011294\n",
            "R-squared of the model with 30 features: 0.45829464600011294\n"
          ]
        }
      ]
    },
    {
      "cell_type": "code",
      "source": [
        "#with 20 features\n",
        "#We inisialise a Linear Regression model for feature selection\n",
        "linear_model_fs = LinearRegression()\n",
        "\n",
        "#Recursive Feature Elimination\n",
        "#I select 20 feature here\n",
        "rfe = RFE(estimator=linear_model_fs, n_features_to_select=20)\n",
        "rfe.fit(X_train, y_train)\n",
        "\n",
        "#Get and print the selected features\n",
        "selected_features_20 = X_train.columns[rfe.support_]\n",
        "print(\"Selected Features:\", selected_features_20)"
      ],
      "metadata": {
        "colab": {
          "base_uri": "https://localhost:8080/"
        },
        "id": "jh11UeTw1mjO",
        "outputId": "353d65c5-633d-4964-d9b6-a8654d14124b"
      },
      "execution_count": 172,
      "outputs": [
        {
          "output_type": "stream",
          "name": "stdout",
          "text": [
            "Selected Features: Index(['cg21992250', 'cg05590257', 'cg04987894', 'cg03874127', 'cg02828104',\n",
            "       'cg08952029', 'cg09835085', 'cg17003970', 'cg19107595', 'cg07997737',\n",
            "       'cg02654291', 'cg06818473', 'cg07109801', 'cg19636861', 'cg16708981',\n",
            "       'cg23061257', 'cg01667702', 'cg17786776', 'cg20582779', 'cg19372178'],\n",
            "      dtype='object')\n"
          ]
        }
      ]
    },
    {
      "cell_type": "code",
      "source": [
        "#Perform linear regression with 20 features\n",
        "linear_model = LinearRegression()\n",
        "linear_model.fit(X_train[selected_features_20], y_train)\n",
        "\n",
        "#Predict on the test set\n",
        "y_pred = linear_model.predict(X_test[selected_features_20])\n",
        "print(f\"selected features: {y_pred}\")\n",
        "\n",
        "#Calculate the mean squared error\n",
        "mse_20 = mean_squared_error(y_test, y_pred)\n",
        "print(f\"Mean Squared Error: {mse_20}\")\n",
        "\n",
        "#Evaluate the model by calculating the R-squares (two ways of doing that, below),\n",
        "#R-squared indicates the goodness of fit. The closer to 1, the better the model.\n",
        "print(f\"Model Score: {linear_model.score(X_test[selected_features_20], y_test)}\")\n",
        "#Calculate R-squared\n",
        "r2 = r2_score(y_test, y_pred)\n",
        "print(f\"R-squared of the model with 20 features: {r2}\")"
      ],
      "metadata": {
        "colab": {
          "base_uri": "https://localhost:8080/"
        },
        "id": "e7XTJW891t6I",
        "outputId": "70d738e4-92bb-4372-a164-5cfee8b95e53"
      },
      "execution_count": 173,
      "outputs": [
        {
          "output_type": "stream",
          "name": "stdout",
          "text": [
            "selected features: [-15.61926153  67.13670493  31.95746977 -12.84046626  -3.11406082\n",
            "   3.41275494   7.76029686  52.56814685  79.81115484  48.59170903\n",
            " -19.46465778  -7.79126875  11.79961149  16.06689798  67.91412296\n",
            "  13.32769553  61.96695663 -12.78891151  -7.45979386  59.00231646\n",
            "  44.12795056  57.6302427 ]\n",
            "Mean Squared Error: 451.8787121429287\n",
            "Model Score: 0.34730415499766554\n",
            "R-squared of the model with 20 features: 0.34730415499766554\n"
          ]
        }
      ]
    },
    {
      "cell_type": "code",
      "source": [
        "#with 10 features\n",
        "#We inisialise a Linear Regression model for feature selection\n",
        "linear_model_fs = LinearRegression()\n",
        "\n",
        "#Recursive Feature Elimination\n",
        "#I select 10 feature here\n",
        "rfe = RFE(estimator=linear_model_fs, n_features_to_select=10)\n",
        "rfe.fit(X_train, y_train)\n",
        "\n",
        "#Get and print the selected features\n",
        "selected_features_10 = X_train.columns[rfe.support_]\n",
        "print(\"Selected Features:\", selected_features_10)"
      ],
      "metadata": {
        "colab": {
          "base_uri": "https://localhost:8080/"
        },
        "id": "68ZDTMgm11yj",
        "outputId": "76fc25b1-dbf5-4591-a88e-971cb706e8f0"
      },
      "execution_count": 174,
      "outputs": [
        {
          "output_type": "stream",
          "name": "stdout",
          "text": [
            "Selected Features: Index(['cg21992250', 'cg03874127', 'cg02828104', 'cg09835085', 'cg07997737',\n",
            "       'cg02654291', 'cg16708981', 'cg23061257', 'cg01667702', 'cg20582779'],\n",
            "      dtype='object')\n"
          ]
        }
      ]
    },
    {
      "cell_type": "code",
      "source": [
        "#Perform linear regression with 10 features\n",
        "linear_model = LinearRegression()\n",
        "linear_model.fit(X_train[selected_features_10], y_train)\n",
        "\n",
        "#Predict on the test set\n",
        "y_pred = linear_model.predict(X_test[selected_features_10])\n",
        "print(f\"selected features: {y_pred}\")\n",
        "\n",
        "#Calculate the mean squared error\n",
        "mse_10 = mean_squared_error(y_test, y_pred)\n",
        "print(f\"Mean Squared Error: {mse_10}\")\n",
        "\n",
        "#Evaluate the model by calculating the R-squares (two ways of doing that, below),\n",
        "#R-squared indicates the goodness of fit. The closer to 1, the better the model.\n",
        "print(f\"Model Score: {linear_model.score(X_test[selected_features_10], y_test)}\")\n",
        "#Calculate R-squared\n",
        "r2 = r2_score(y_test, y_pred)\n",
        "print(f\"R-squared of the model with 10 features: {r2}\")"
      ],
      "metadata": {
        "colab": {
          "base_uri": "https://localhost:8080/"
        },
        "id": "4DHxHx3A17ED",
        "outputId": "8df16f8c-4c50-406f-b357-53dbfa1a60cd"
      },
      "execution_count": 175,
      "outputs": [
        {
          "output_type": "stream",
          "name": "stdout",
          "text": [
            "selected features: [-20.79986522  47.19589886  34.63533323 -12.10166253 -14.03780821\n",
            "  -5.39410746  18.51781126  57.11789569  80.80783803  52.80810295\n",
            " -14.72714905  -2.98912268   9.70415454  19.55991677  63.60317054\n",
            "   0.09916861  70.08026549 -22.39914218   3.63851844  52.96614619\n",
            "  55.76741363  61.6404005 ]\n",
            "Mean Squared Error: 488.04359708618034\n",
            "Model Score: 0.2950674164588921\n",
            "R-squared of the model with 10 features: 0.2950674164588921\n"
          ]
        }
      ]
    },
    {
      "cell_type": "markdown",
      "source": [
        "**Considerations:**\n",
        "Jumping from 1000 straight to 90 feature does not seem to affect the model significantly as the Rsquared value is still 0.85 (similarly for MSE values). Also, from 90 to 70 features the Rsquared (and the MSE) is still not significantly changing. However, by progressively decreasing the feature from 70 to 10, there is a decrease in the Rsquared and an increase of the corrispecting MSE, with a low of 0.29 and 488, with only 10 feature. Therefore, it seems that keeping 90/80/70 features might be the best choice in this case, as we want to keep the MSE, which is the mean square error, as low as possible and the RSquare as closest to 1 as possible."
      ],
      "metadata": {
        "id": "avEEQX262S59"
      }
    },
    {
      "cell_type": "code",
      "source": [
        "#Generate a plot of the number of features against the MSE value\n",
        "#to do that, first I need to create a new dataset with the specific data\n",
        "# We Create a dictionary to store the data of interest\n",
        "data = {\n",
        "    'Number of Features': [90, 80, 70, 60, 50, 40, 30, 20, 10],\n",
        "\n",
        "    'MSE': [mse_90, mse_80, mse_70, mse_60, mse_50, mse_40, mse_30, mse_20, mse_10]\n",
        "}\n",
        "\n",
        "# Create a Pandas DataFrame from the dictionary\n",
        "feature_mse_df = pd.DataFrame(data)\n",
        "\n",
        "# Print the DataFrame\n",
        "print(feature_mse_df)\n"
      ],
      "metadata": {
        "colab": {
          "base_uri": "https://localhost:8080/"
        },
        "id": "IrJNcaf_4vK1",
        "outputId": "47b4aba0-4481-41e1-a6d3-b013dc3972d4"
      },
      "execution_count": 176,
      "outputs": [
        {
          "output_type": "stream",
          "name": "stdout",
          "text": [
            "   Number of Features         MSE\n",
            "0                  90  114.732415\n",
            "1                  80   99.105554\n",
            "2                  70  112.660426\n",
            "3                  60  177.329926\n",
            "4                  50  233.792540\n",
            "5                  40  295.167746\n",
            "6                  30  375.037040\n",
            "7                  20  451.878712\n",
            "8                  10  488.043597\n"
          ]
        }
      ]
    },
    {
      "cell_type": "code",
      "source": [
        "# This is the code for plotting the features against the MSE, which an indication of the performance of the model\n",
        "#We are choosing to represent the data with a scatter plot\n",
        "\n",
        "import plotly.express as px\n",
        "\n",
        "fig = px.scatter(feature_mse_df,\n",
        "             x='Number of Features',\n",
        "             y='MSE',\n",
        "             color_discrete_sequence=['cyan'])  # Set color to cyan\n",
        "\n",
        "fig.update_traces(marker_line_color='blue', marker_line_width=1.5, marker=dict(size=10))  # Add border to bars\n",
        "\n",
        "fig.update_layout(\n",
        "    xaxis_title=\"Number of Features\",  # Add x-axis label\n",
        "    yaxis_title=\"MSE Values\",  # Add y-axis label\n",
        "    xaxis=dict(type='category')  # Set x-axis type to category\n",
        "\n",
        ")\n",
        "\n",
        "fig.show()"
      ],
      "metadata": {
        "colab": {
          "base_uri": "https://localhost:8080/",
          "height": 542
        },
        "id": "TrHNDf4RC2Bh",
        "outputId": "7c90cc16-4b30-4a3b-f2da-52d72ef08789"
      },
      "execution_count": 180,
      "outputs": [
        {
          "output_type": "display_data",
          "data": {
            "text/html": [
              "<html>\n",
              "<head><meta charset=\"utf-8\" /></head>\n",
              "<body>\n",
              "    <div>            <script src=\"https://cdnjs.cloudflare.com/ajax/libs/mathjax/2.7.5/MathJax.js?config=TeX-AMS-MML_SVG\"></script><script type=\"text/javascript\">if (window.MathJax && window.MathJax.Hub && window.MathJax.Hub.Config) {window.MathJax.Hub.Config({SVG: {font: \"STIX-Web\"}});}</script>                <script type=\"text/javascript\">window.PlotlyConfig = {MathJaxConfig: 'local'};</script>\n",
              "        <script charset=\"utf-8\" src=\"https://cdn.plot.ly/plotly-2.35.2.min.js\"></script>                <div id=\"3c77c04a-da32-4b49-b7b6-da305fb555e8\" class=\"plotly-graph-div\" style=\"height:525px; width:100%;\"></div>            <script type=\"text/javascript\">                                    window.PLOTLYENV=window.PLOTLYENV || {};                                    if (document.getElementById(\"3c77c04a-da32-4b49-b7b6-da305fb555e8\")) {                    Plotly.newPlot(                        \"3c77c04a-da32-4b49-b7b6-da305fb555e8\",                        [{\"hovertemplate\":\"Number of Features=%{x}\\u003cbr\\u003eMSE=%{y}\\u003cextra\\u003e\\u003c\\u002fextra\\u003e\",\"legendgroup\":\"\",\"marker\":{\"color\":\"cyan\",\"symbol\":\"circle\",\"line\":{\"color\":\"blue\",\"width\":1.5},\"size\":10},\"mode\":\"markers\",\"name\":\"\",\"orientation\":\"v\",\"showlegend\":false,\"x\":[90,80,70,60,50,40,30,20,10],\"xaxis\":\"x\",\"y\":[114.73241479411664,99.10555363012426,112.6604256334505,177.32992626987183,233.7925401024686,295.16774613329596,375.03703999452114,451.8787121429287,488.04359708618034],\"yaxis\":\"y\",\"type\":\"scatter\"}],                        {\"template\":{\"data\":{\"histogram2dcontour\":[{\"type\":\"histogram2dcontour\",\"colorbar\":{\"outlinewidth\":0,\"ticks\":\"\"},\"colorscale\":[[0.0,\"#0d0887\"],[0.1111111111111111,\"#46039f\"],[0.2222222222222222,\"#7201a8\"],[0.3333333333333333,\"#9c179e\"],[0.4444444444444444,\"#bd3786\"],[0.5555555555555556,\"#d8576b\"],[0.6666666666666666,\"#ed7953\"],[0.7777777777777778,\"#fb9f3a\"],[0.8888888888888888,\"#fdca26\"],[1.0,\"#f0f921\"]]}],\"choropleth\":[{\"type\":\"choropleth\",\"colorbar\":{\"outlinewidth\":0,\"ticks\":\"\"}}],\"histogram2d\":[{\"type\":\"histogram2d\",\"colorbar\":{\"outlinewidth\":0,\"ticks\":\"\"},\"colorscale\":[[0.0,\"#0d0887\"],[0.1111111111111111,\"#46039f\"],[0.2222222222222222,\"#7201a8\"],[0.3333333333333333,\"#9c179e\"],[0.4444444444444444,\"#bd3786\"],[0.5555555555555556,\"#d8576b\"],[0.6666666666666666,\"#ed7953\"],[0.7777777777777778,\"#fb9f3a\"],[0.8888888888888888,\"#fdca26\"],[1.0,\"#f0f921\"]]}],\"heatmap\":[{\"type\":\"heatmap\",\"colorbar\":{\"outlinewidth\":0,\"ticks\":\"\"},\"colorscale\":[[0.0,\"#0d0887\"],[0.1111111111111111,\"#46039f\"],[0.2222222222222222,\"#7201a8\"],[0.3333333333333333,\"#9c179e\"],[0.4444444444444444,\"#bd3786\"],[0.5555555555555556,\"#d8576b\"],[0.6666666666666666,\"#ed7953\"],[0.7777777777777778,\"#fb9f3a\"],[0.8888888888888888,\"#fdca26\"],[1.0,\"#f0f921\"]]}],\"heatmapgl\":[{\"type\":\"heatmapgl\",\"colorbar\":{\"outlinewidth\":0,\"ticks\":\"\"},\"colorscale\":[[0.0,\"#0d0887\"],[0.1111111111111111,\"#46039f\"],[0.2222222222222222,\"#7201a8\"],[0.3333333333333333,\"#9c179e\"],[0.4444444444444444,\"#bd3786\"],[0.5555555555555556,\"#d8576b\"],[0.6666666666666666,\"#ed7953\"],[0.7777777777777778,\"#fb9f3a\"],[0.8888888888888888,\"#fdca26\"],[1.0,\"#f0f921\"]]}],\"contourcarpet\":[{\"type\":\"contourcarpet\",\"colorbar\":{\"outlinewidth\":0,\"ticks\":\"\"}}],\"contour\":[{\"type\":\"contour\",\"colorbar\":{\"outlinewidth\":0,\"ticks\":\"\"},\"colorscale\":[[0.0,\"#0d0887\"],[0.1111111111111111,\"#46039f\"],[0.2222222222222222,\"#7201a8\"],[0.3333333333333333,\"#9c179e\"],[0.4444444444444444,\"#bd3786\"],[0.5555555555555556,\"#d8576b\"],[0.6666666666666666,\"#ed7953\"],[0.7777777777777778,\"#fb9f3a\"],[0.8888888888888888,\"#fdca26\"],[1.0,\"#f0f921\"]]}],\"surface\":[{\"type\":\"surface\",\"colorbar\":{\"outlinewidth\":0,\"ticks\":\"\"},\"colorscale\":[[0.0,\"#0d0887\"],[0.1111111111111111,\"#46039f\"],[0.2222222222222222,\"#7201a8\"],[0.3333333333333333,\"#9c179e\"],[0.4444444444444444,\"#bd3786\"],[0.5555555555555556,\"#d8576b\"],[0.6666666666666666,\"#ed7953\"],[0.7777777777777778,\"#fb9f3a\"],[0.8888888888888888,\"#fdca26\"],[1.0,\"#f0f921\"]]}],\"mesh3d\":[{\"type\":\"mesh3d\",\"colorbar\":{\"outlinewidth\":0,\"ticks\":\"\"}}],\"scatter\":[{\"fillpattern\":{\"fillmode\":\"overlay\",\"size\":10,\"solidity\":0.2},\"type\":\"scatter\"}],\"parcoords\":[{\"type\":\"parcoords\",\"line\":{\"colorbar\":{\"outlinewidth\":0,\"ticks\":\"\"}}}],\"scatterpolargl\":[{\"type\":\"scatterpolargl\",\"marker\":{\"colorbar\":{\"outlinewidth\":0,\"ticks\":\"\"}}}],\"bar\":[{\"error_x\":{\"color\":\"#2a3f5f\"},\"error_y\":{\"color\":\"#2a3f5f\"},\"marker\":{\"line\":{\"color\":\"#E5ECF6\",\"width\":0.5},\"pattern\":{\"fillmode\":\"overlay\",\"size\":10,\"solidity\":0.2}},\"type\":\"bar\"}],\"scattergeo\":[{\"type\":\"scattergeo\",\"marker\":{\"colorbar\":{\"outlinewidth\":0,\"ticks\":\"\"}}}],\"scatterpolar\":[{\"type\":\"scatterpolar\",\"marker\":{\"colorbar\":{\"outlinewidth\":0,\"ticks\":\"\"}}}],\"histogram\":[{\"marker\":{\"pattern\":{\"fillmode\":\"overlay\",\"size\":10,\"solidity\":0.2}},\"type\":\"histogram\"}],\"scattergl\":[{\"type\":\"scattergl\",\"marker\":{\"colorbar\":{\"outlinewidth\":0,\"ticks\":\"\"}}}],\"scatter3d\":[{\"type\":\"scatter3d\",\"line\":{\"colorbar\":{\"outlinewidth\":0,\"ticks\":\"\"}},\"marker\":{\"colorbar\":{\"outlinewidth\":0,\"ticks\":\"\"}}}],\"scattermapbox\":[{\"type\":\"scattermapbox\",\"marker\":{\"colorbar\":{\"outlinewidth\":0,\"ticks\":\"\"}}}],\"scatterternary\":[{\"type\":\"scatterternary\",\"marker\":{\"colorbar\":{\"outlinewidth\":0,\"ticks\":\"\"}}}],\"scattercarpet\":[{\"type\":\"scattercarpet\",\"marker\":{\"colorbar\":{\"outlinewidth\":0,\"ticks\":\"\"}}}],\"carpet\":[{\"aaxis\":{\"endlinecolor\":\"#2a3f5f\",\"gridcolor\":\"white\",\"linecolor\":\"white\",\"minorgridcolor\":\"white\",\"startlinecolor\":\"#2a3f5f\"},\"baxis\":{\"endlinecolor\":\"#2a3f5f\",\"gridcolor\":\"white\",\"linecolor\":\"white\",\"minorgridcolor\":\"white\",\"startlinecolor\":\"#2a3f5f\"},\"type\":\"carpet\"}],\"table\":[{\"cells\":{\"fill\":{\"color\":\"#EBF0F8\"},\"line\":{\"color\":\"white\"}},\"header\":{\"fill\":{\"color\":\"#C8D4E3\"},\"line\":{\"color\":\"white\"}},\"type\":\"table\"}],\"barpolar\":[{\"marker\":{\"line\":{\"color\":\"#E5ECF6\",\"width\":0.5},\"pattern\":{\"fillmode\":\"overlay\",\"size\":10,\"solidity\":0.2}},\"type\":\"barpolar\"}],\"pie\":[{\"automargin\":true,\"type\":\"pie\"}]},\"layout\":{\"autotypenumbers\":\"strict\",\"colorway\":[\"#636efa\",\"#EF553B\",\"#00cc96\",\"#ab63fa\",\"#FFA15A\",\"#19d3f3\",\"#FF6692\",\"#B6E880\",\"#FF97FF\",\"#FECB52\"],\"font\":{\"color\":\"#2a3f5f\"},\"hovermode\":\"closest\",\"hoverlabel\":{\"align\":\"left\"},\"paper_bgcolor\":\"white\",\"plot_bgcolor\":\"#E5ECF6\",\"polar\":{\"bgcolor\":\"#E5ECF6\",\"angularaxis\":{\"gridcolor\":\"white\",\"linecolor\":\"white\",\"ticks\":\"\"},\"radialaxis\":{\"gridcolor\":\"white\",\"linecolor\":\"white\",\"ticks\":\"\"}},\"ternary\":{\"bgcolor\":\"#E5ECF6\",\"aaxis\":{\"gridcolor\":\"white\",\"linecolor\":\"white\",\"ticks\":\"\"},\"baxis\":{\"gridcolor\":\"white\",\"linecolor\":\"white\",\"ticks\":\"\"},\"caxis\":{\"gridcolor\":\"white\",\"linecolor\":\"white\",\"ticks\":\"\"}},\"coloraxis\":{\"colorbar\":{\"outlinewidth\":0,\"ticks\":\"\"}},\"colorscale\":{\"sequential\":[[0.0,\"#0d0887\"],[0.1111111111111111,\"#46039f\"],[0.2222222222222222,\"#7201a8\"],[0.3333333333333333,\"#9c179e\"],[0.4444444444444444,\"#bd3786\"],[0.5555555555555556,\"#d8576b\"],[0.6666666666666666,\"#ed7953\"],[0.7777777777777778,\"#fb9f3a\"],[0.8888888888888888,\"#fdca26\"],[1.0,\"#f0f921\"]],\"sequentialminus\":[[0.0,\"#0d0887\"],[0.1111111111111111,\"#46039f\"],[0.2222222222222222,\"#7201a8\"],[0.3333333333333333,\"#9c179e\"],[0.4444444444444444,\"#bd3786\"],[0.5555555555555556,\"#d8576b\"],[0.6666666666666666,\"#ed7953\"],[0.7777777777777778,\"#fb9f3a\"],[0.8888888888888888,\"#fdca26\"],[1.0,\"#f0f921\"]],\"diverging\":[[0,\"#8e0152\"],[0.1,\"#c51b7d\"],[0.2,\"#de77ae\"],[0.3,\"#f1b6da\"],[0.4,\"#fde0ef\"],[0.5,\"#f7f7f7\"],[0.6,\"#e6f5d0\"],[0.7,\"#b8e186\"],[0.8,\"#7fbc41\"],[0.9,\"#4d9221\"],[1,\"#276419\"]]},\"xaxis\":{\"gridcolor\":\"white\",\"linecolor\":\"white\",\"ticks\":\"\",\"title\":{\"standoff\":15},\"zerolinecolor\":\"white\",\"automargin\":true,\"zerolinewidth\":2},\"yaxis\":{\"gridcolor\":\"white\",\"linecolor\":\"white\",\"ticks\":\"\",\"title\":{\"standoff\":15},\"zerolinecolor\":\"white\",\"automargin\":true,\"zerolinewidth\":2},\"scene\":{\"xaxis\":{\"backgroundcolor\":\"#E5ECF6\",\"gridcolor\":\"white\",\"linecolor\":\"white\",\"showbackground\":true,\"ticks\":\"\",\"zerolinecolor\":\"white\",\"gridwidth\":2},\"yaxis\":{\"backgroundcolor\":\"#E5ECF6\",\"gridcolor\":\"white\",\"linecolor\":\"white\",\"showbackground\":true,\"ticks\":\"\",\"zerolinecolor\":\"white\",\"gridwidth\":2},\"zaxis\":{\"backgroundcolor\":\"#E5ECF6\",\"gridcolor\":\"white\",\"linecolor\":\"white\",\"showbackground\":true,\"ticks\":\"\",\"zerolinecolor\":\"white\",\"gridwidth\":2}},\"shapedefaults\":{\"line\":{\"color\":\"#2a3f5f\"}},\"annotationdefaults\":{\"arrowcolor\":\"#2a3f5f\",\"arrowhead\":0,\"arrowwidth\":1},\"geo\":{\"bgcolor\":\"white\",\"landcolor\":\"#E5ECF6\",\"subunitcolor\":\"white\",\"showland\":true,\"showlakes\":true,\"lakecolor\":\"white\"},\"title\":{\"x\":0.05},\"mapbox\":{\"style\":\"light\"}}},\"xaxis\":{\"anchor\":\"y\",\"domain\":[0.0,1.0],\"title\":{\"text\":\"Number of Features\"},\"type\":\"category\"},\"yaxis\":{\"anchor\":\"x\",\"domain\":[0.0,1.0],\"title\":{\"text\":\"MSE Values\"}},\"legend\":{\"tracegroupgap\":0},\"margin\":{\"t\":60}},                        {\"responsive\": true}                    ).then(function(){\n",
              "                            \n",
              "var gd = document.getElementById('3c77c04a-da32-4b49-b7b6-da305fb555e8');\n",
              "var x = new MutationObserver(function (mutations, observer) {{\n",
              "        var display = window.getComputedStyle(gd).display;\n",
              "        if (!display || display === 'none') {{\n",
              "            console.log([gd, 'removed!']);\n",
              "            Plotly.purge(gd);\n",
              "            observer.disconnect();\n",
              "        }}\n",
              "}});\n",
              "\n",
              "// Listen for the removal of the full notebook cells\n",
              "var notebookContainer = gd.closest('#notebook-container');\n",
              "if (notebookContainer) {{\n",
              "    x.observe(notebookContainer, {childList: true});\n",
              "}}\n",
              "\n",
              "// Listen for the clearing of the current output cell\n",
              "var outputEl = gd.closest('.output');\n",
              "if (outputEl) {{\n",
              "    x.observe(outputEl, {childList: true});\n",
              "}}\n",
              "\n",
              "                        })                };                            </script>        </div>\n",
              "</body>\n",
              "</html>"
            ]
          },
          "metadata": {}
        }
      ]
    }
  ]
}